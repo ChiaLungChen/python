import PyPDF2

# 開啟PDF文件
with open('input.pdf', 'rb') as file:
    reader = PyPDF2.PdfFileReader(file)
    text = ''
    # 讀取PDF文件的每一頁
    for page_num in range(reader.numPages):
        page = reader.getPage(page_num)
        text += page.extract_text()

# 創建一個 PDF 寫入器對象
pdf_writer = PyPDF2.PdfFileWriter()

# 創建一個新的 PDF 頁面
page = pdf_writer.addPage()

# 將提取的文字內容添加到 PDF 頁面中
page.mergePage(PyPDF2.PdfFileReader(text.encode('utf-8'), "rb").getPage(0))

# 將修改後的 PDF 寫入到新檔案中
with open('output.pdf', 'wb') as f:
    pdf_writer.write(f)
